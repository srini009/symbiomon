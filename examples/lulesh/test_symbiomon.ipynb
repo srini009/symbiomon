{
 "cells": [
  {
   "cell_type": "code",
   "execution_count": 1,
   "metadata": {},
   "outputs": [],
   "source": [
    "server_addr = \"ofi+verbs://10.3.1.3:35126\""
   ]
  },
  {
   "cell_type": "code",
   "execution_count": 2,
   "metadata": {},
   "outputs": [],
   "source": [
    "symbiomon_provider_id = 42\n"
   ]
  },
  {
   "cell_type": "code",
   "execution_count": 3,
   "metadata": {},
   "outputs": [],
   "source": [
    "from pymargo.core import Engine\n",
    "import pymargo"
   ]
  },
  {
   "cell_type": "code",
   "execution_count": 4,
   "metadata": {},
   "outputs": [],
   "source": [
    "from pysymbiomon.client import *\n"
   ]
  },
  {
   "cell_type": "code",
   "execution_count": 5,
   "metadata": {},
   "outputs": [],
   "source": [
    "mid = Engine('verbs', mode=pymargo.client)"
   ]
  },
  {
   "cell_type": "code",
   "execution_count": 6,
   "metadata": {},
   "outputs": [],
   "source": [
    "client = SymbiomonClient(mid)"
   ]
  },
  {
   "cell_type": "code",
   "execution_count": 7,
   "metadata": {},
   "outputs": [],
   "source": [
    "addr = mid.lookup(server_addr)"
   ]
  },
  {
   "cell_type": "code",
   "execution_count": 8,
   "metadata": {},
   "outputs": [],
   "source": [
    "id_ = client.metric_get_id(\"tau2\", \"MPI_Allreduce()_Exclusive_TIME_GLOBAL_MAX\", [])\n",
    "min_ = client.metric_get_id(\"tau2\", \"MPI_Allreduce()_Exclusive_min_TIME_GLOBAL_MIN\", [])"
   ]
  },
  {
   "cell_type": "code",
   "execution_count": 9,
   "metadata": {},
   "outputs": [
    {
     "name": "stdout",
     "output_type": "stream",
     "text": [
      "813424679\n",
      "728029702\n"
     ]
    }
   ],
   "source": [
    "print (id_)\n",
    "print (min_)"
   ]
  },
  {
   "cell_type": "code",
   "execution_count": 10,
   "metadata": {},
   "outputs": [],
   "source": [
    "mh = client.create_metric_handle(addr, id_, symbiomon_provider_id)\n",
    "mh_min = client.create_metric_handle(addr, min_, symbiomon_provider_id)"
   ]
  },
  {
   "cell_type": "code",
   "execution_count": 11,
   "metadata": {},
   "outputs": [
    {
     "name": "stdout",
     "output_type": "stream",
     "text": [
      "('Requested for:', 10, 'samples, got: ', 10)\n",
      "('Requested for:', 10, 'samples, got: ', 10)\n"
     ]
    }
   ],
   "source": [
    "max_samples = 10\n",
    "samples = mh.metric_fetch(max_samples) #Fetches latest <max_samples> samples\n",
    "samples_min = mh_min.metric_fetch(max_samples) #Fetches latest <max_samples> samples\n",
    "print(\"Requested for:\", max_samples, \"samples, got: \", len(samples))\n",
    "print(\"Requested for:\", max_samples, \"samples, got: \", len(samples_min))"
   ]
  },
  {
   "cell_type": "code",
   "execution_count": 12,
   "metadata": {},
   "outputs": [],
   "source": [
    "import matplotlib.pyplot as plt"
   ]
  },
  {
   "cell_type": "code",
   "execution_count": 18,
   "metadata": {},
   "outputs": [],
   "source": [
    "#x = [i[0]/1000000.0 for i in samples]\n",
    "#x_min = [i[0]/1000000.0 for i in samples_min ]\n",
    "max_balance = [5.8, 6, 7, 7.6, 8, 8.3, 8.6, 9.8]\n",
    "max_imbalance = [15, 16, 17, 18, 18.5, 19, 20, 20.5]\n",
    "min_balance = [1.3, 1.7, 1.9, 2.5, 2.9, 3.2, 3.5, 3.8]\n",
    "min_imbalance = [0.2, 0.6, 1.0, 1.2, 1.4, 1.6, 1.8, 2.3]"
   ]
  },
  {
   "cell_type": "code",
   "execution_count": 19,
   "metadata": {},
   "outputs": [],
   "source": [
    "#y = [(i[1] - samples[0][1]) for i in samples ]\n",
    "y = [0, 2, 4, 6, 8, 10, 12, 14]"
   ]
  },
  {
   "cell_type": "code",
   "execution_count": 20,
   "metadata": {
    "scrolled": false
   },
   "outputs": [
    {
     "data": {
      "text/plain": [
       "<matplotlib.text.Text at 0x5433a10>"
      ]
     },
     "execution_count": 20,
     "metadata": {},
     "output_type": "execute_result"
    }
   ],
   "source": [
    "fig, ax = plt.subplots(figsize =(10,5))\n",
    "ax.plot(y, max_balance, label='Balanced Setup: Global MAX')\n",
    "ax.plot(y, max_imbalance, label='Imbalanced Setup: Global MAX')\n",
    "ax.plot(y, min_balance, label='Balanced Setup: Global MIN')\n",
    "ax.plot(y, min_imbalance, label='Imbalanced Setup: Global MIN')\n",
    "ax.legend(loc=6)\n",
    "ax.tick_params(axis='x', labelsize=12)\n",
    "ax.tick_params(axis='y', labelsize=12)\n",
    "plt.xlabel('Time Since First Sample (seconds)', fontsize=18)\n",
    "plt.ylabel('MPI_Allreduce  Time (seconds)', fontsize=18)"
   ]
  },
  {
   "cell_type": "code",
   "execution_count": 16,
   "metadata": {},
   "outputs": [
    {
     "ename": "NameError",
     "evalue": "name 'x' is not defined",
     "output_type": "error",
     "traceback": [
      "\u001b[0;31m---------------------------------------------------------------------------\u001b[0m",
      "\u001b[0;31mNameError\u001b[0m                                 Traceback (most recent call last)",
      "\u001b[0;32m<ipython-input-16-606ad02f996c>\u001b[0m in \u001b[0;36m<module>\u001b[0;34m()\u001b[0m\n\u001b[0;32m----> 1\u001b[0;31m \u001b[0;32mprint\u001b[0m \u001b[0;34m(\u001b[0m\u001b[0mx\u001b[0m\u001b[0;34m)\u001b[0m\u001b[0;34m\u001b[0m\u001b[0m\n\u001b[0m",
      "\u001b[0;31mNameError\u001b[0m: name 'x' is not defined"
     ]
    }
   ],
   "source": []
  },
  {
   "cell_type": "code",
   "execution_count": 37,
   "metadata": {},
   "outputs": [
    {
     "data": {
      "text/plain": [
       "Text(0, 0.5, 'MPI_Allreduce()_Inclusive_TIME_GLOBAL_MAX')"
      ]
     },
     "execution_count": 37,
     "metadata": {},
     "output_type": "execute_result"
    },
    {
     "data": {
      "image/png": "[encoded data removed]",
      "text/plain": [
       "<Figure size 936x504 with 1 Axes>"
      ]
     },
     "metadata": {
      "needs_background": "light"
     },
     "output_type": "display_data"
    }
   ],
   "source": [
    "fig, ax = plt.subplots(figsize =(13,7))\n",
    "z = [0.5*i for i in x]\n",
    "ax.plot(y, x)\n",
    "ax.plot(y, z)\n",
    "ax.tick_params(axis='x', labelsize=12)\n",
    "ax.tick_params(axis='y', labelsize=12)\n",
    "plt.xlabel('Time Since First Sample (seconds)', fontsize=18)\n",
    "plt.ylabel('MPI_Allreduce()_Inclusive_TIME_GLOBAL_MAX', fontsize=18)"
   ]
  },
  {
   "cell_type": "code",
   "execution_count": null,
   "metadata": {},
   "outputs": [],
   "source": []
  }
 ],
 "metadata": {
  "kernelspec": {
   "display_name": "Python 2",
   "language": "python",
   "name": "python2"
  },
  "language_info": {
   "codemirror_mode": {
    "name": "ipython",
    "version": 2
   },
   "file_extension": ".py",
   "mimetype": "text/x-python",
   "name": "python",
   "nbconvert_exporter": "python",
   "pygments_lexer": "ipython2",
   "version": "2.7.5"
  }
 },
 "nbformat": 4,
 "nbformat_minor": 4
}
